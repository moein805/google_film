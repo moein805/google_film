{
 "cells": [
  {
   "cell_type": "code",
   "execution_count": 10,
   "metadata": {},
   "outputs": [],
   "source": [
    "import requests\n",
    "import bs4\n",
    "from googlesearch import search\n",
    "\n",
    "  \n",
    "# Make two strings with default google search URL\n",
    "# 'https://google.com/search?q=' and\n",
    "# our customized search keyword.\n",
    "# Concatenate them\n",
    "text= \"joker دانلود\"\n",
    "url = 'https://google.com/search?q=' + text\n",
    "  \n",
    "# Fetch the URL data using requests.get(url),\n",
    "# store it in a variable, request_result.\n",
    "request_result=requests.get( url )\n",
    "  \n",
    "# Creating soup from the fetched request\n",
    "soup = bs4.BeautifulSoup(request_result.text,\n",
    "                         \"html.parser\")\n",
    "def google_search(query):\n",
    "    for j in search(query, tld=\"com\", num=10, stop=1, pause=2):\n",
    "        print(j)\n",
    "        return j\n",
    "def make_soup(url):\n",
    "    request_result=requests.get( url )\n",
    "    soup = bs4.BeautifulSoup(request_result.text,\n",
    "                         \"html.parser\")\n",
    "    return soup"
   ]
  },
  {
   "cell_type": "code",
   "execution_count": 17,
   "metadata": {},
   "outputs": [
    {
     "name": "stdout",
     "output_type": "stream",
     "text": [
      "[]\n"
     ]
    }
   ],
   "source": [
    "\n",
    "i = 0\n",
    "\n",
    "link_list = []\n",
    "for tag in soup.find_all('a'):\n",
    "    i+=1\n",
    "    href = tag['href']\n",
    "    if 'google' in href:\n",
    "        try:\n",
    "            link = re.search('https://.+\\.com',href).group(0)\n",
    "            link_list.append(link)\n",
    "        except:\n",
    "            pass\n",
    "\n",
    "link_list = list(set(link_list))\n",
    "\n",
    "link_list2 = [] \n",
    "\n",
    "for link in link_list:\n",
    "    if not re.search('google.com',link):\n",
    "        link_list2.append(link)\n",
    "        \n",
    "print(link_list2)for result in soup.select('.tF2Cxc'):\n",
    "  link = result.select_one('.yuRUbf a')['href']\n",
    "  displayed_link = result.select_one('.TbwUpd.NJjxre').text\n",
    "\n",
    "  # https://stackoverflow.com/a/25703406/15164646\n",
    "  domain_name = ''.join(re.findall(r'^(?:https?:\\/\\/)?(?:[^@\\/\\n]+@)?(?:www\\.)?([^:\\/?\\n]+)', link))\n",
    "\n",
    "  print(link)\n",
    "  print(displayed_link)\n",
    "  print(domain_name)\n",
    "  print('---------------')\n"
   ]
  },
  {
   "cell_type": "code",
   "execution_count": 9,
   "metadata": {},
   "outputs": [
    {
     "name": "stdout",
     "output_type": "stream",
     "text": [
      "https://hexdownload.co/38155/joker-film/\n",
      "https://www.film2movie.asia/tag/%D8%AF%D8%A7%D9%86%D9%84%D9%88%D8%AF-%D9%81%DB%8C%D9%84%D9%85-joker-2019-%D8%A8%D8%A7-%D9%84%DB%8C%D9%86%DA%A9-%D9%85%D8%B3%D8%AA%D9%82%DB%8C%D9%85/\n",
      "https://my-film.pw/tt7286456.html\n",
      "https://www.f2m.site/534/%D8%AF%D8%A7%D9%86%D9%84%D9%88%D8%AF-%D9%81%DB%8C%D9%84%D9%85-joker-2019/\n",
      "https://www.uptvs.com/%D8%AF%D8%A7%D9%86%D9%84%D9%88%D8%AF-%D9%81%DB%8C%D9%84%D9%85-joker-2019-%D8%AC%D9%88%DA%A9%D8%B1-%D8%A8%D8%A7-%D8%AF%D9%88%D8%A8%D9%84%D9%87-%D9%81%D8%A7%D8%B1%D8%B3%DB%8C.html\n",
      "https://avamovie14.xyz/%D8%AF%D8%A7%D9%86%D9%84%D9%88%D8%AF-%D9%81%DB%8C%D9%84%D9%85-joker-2019/\n",
      "http://cooldl.net/%D8%B3%D8%B1%DB%8C%D8%A7%D9%84-%D8%AC%D9%88%DA%A9%D8%B1-%D8%A7%DB%8C%D8%B1%D8%A7%D9%86%DB%8C.html\n",
      "https://digimovie.sbs/joker-2019/\n",
      "https://www.asrmovie.com/3132/joker-2019\n",
      "https://www.aparat.com/v/e3l5O/%D8%AF%D8%A7%D9%86%D9%84%D9%88%D8%AF_%D9%81%DB%8C%D9%84%D9%85_%D8%AC%D9%88%DA%A9%D8%B1_2019%28JOKER_2019%29_%D8%AF%D9%88%D8%A8%D9%84%D9%87_%D9%81%D8%A7%D8%B1%D8%B3%DB%8C\n"
     ]
    }
   ],
   "source": [
    "search_results = search(text, stop=10, pause=2, num=10)\n",
    "for result in search_results:\n",
    "    print(result)\n",
    "    soup = make_soup(result)\n",
    "    #find"
   ]
  },
  {
   "cell_type": "code",
   "execution_count": 8,
   "metadata": {},
   "outputs": [
    {
     "ename": "TypeError",
     "evalue": "'generator' object is not subscriptable",
     "output_type": "error",
     "traceback": [
      "\u001b[0;31m---------------------------------------------------------------------------\u001b[0m",
      "\u001b[0;31mTypeError\u001b[0m                                 Traceback (most recent call last)",
      "\u001b[1;32m/root/google_film/google.ipynb Cell 4'\u001b[0m in \u001b[0;36m<cell line: 1>\u001b[0;34m()\u001b[0m\n\u001b[0;32m----> <a href='vscode-notebook-cell://ssh-remote%2B141.11.42.253/root/google_film/google.ipynb#ch0000003vscode-remote?line=0'>1</a>\u001b[0m search_results[\u001b[39m0\u001b[39;49m]\n",
      "\u001b[0;31mTypeError\u001b[0m: 'generator' object is not subscriptable"
     ]
    }
   ],
   "source": []
  },
  {
   "cell_type": "code",
   "execution_count": null,
   "metadata": {},
   "outputs": [],
   "source": []
  }
 ],
 "metadata": {
  "kernelspec": {
   "display_name": "Python 3.8.10 64-bit",
   "language": "python",
   "name": "python3"
  },
  "language_info": {
   "codemirror_mode": {
    "name": "ipython",
    "version": 3
   },
   "file_extension": ".py",
   "mimetype": "text/x-python",
   "name": "python",
   "nbconvert_exporter": "python",
   "pygments_lexer": "ipython3",
   "version": "3.8.10"
  },
  "orig_nbformat": 4,
  "vscode": {
   "interpreter": {
    "hash": "916dbcbb3f70747c44a77c7bcd40155683ae19c65e1c03b4aa3499c5328201f1"
   }
  }
 },
 "nbformat": 4,
 "nbformat_minor": 2
}
